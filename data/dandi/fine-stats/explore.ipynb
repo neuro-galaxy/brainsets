{
 "cells": [
  {
   "cell_type": "code",
   "execution_count": 128,
   "id": "1e9d3af4-23b4-46e5-8608-de923a0a9d27",
   "metadata": {},
   "outputs": [],
   "source": [
    "import json\n",
    "import numpy as np\n",
    "from dandi import dandiapi, dandiarchive\n",
    "from remoteAssetIO import remoteAssetIO"
   ]
  },
  {
   "cell_type": "code",
   "execution_count": 219,
   "id": "f795e8ee-9027-4128-932c-788acfa0c600",
   "metadata": {},
   "outputs": [
    {
     "name": "stdout",
     "output_type": "stream",
     "text": [
      "https://dandiarchive.org/dandiset/000409\n",
      "https://dandiarchive.org/dandiset/000409/draft\n",
      "IBL - Brain Wide Map\n",
      "21 assets\n"
     ]
    },
    {
     "ename": "KeyError",
     "evalue": "'variableMeasured'",
     "output_type": "error",
     "traceback": [
      "\u001b[0;31m---------------------------------------------------------------------------\u001b[0m",
      "\u001b[0;31mKeyError\u001b[0m                                  Traceback (most recent call last)",
      "Cell \u001b[0;32mIn[219], line 56\u001b[0m\n\u001b[1;32m     50\u001b[0m                 \u001b[38;5;28mprint\u001b[39m(i, \u001b[38;5;28mlen\u001b[39m(nwbfile\u001b[38;5;241m.\u001b[39munits\u001b[38;5;241m.\u001b[39mspike_times))\n\u001b[1;32m     53\u001b[0m             \u001b[38;5;66;03m#if useful:\u001b[39;00m\n\u001b[1;32m     54\u001b[0m             \u001b[38;5;66;03m#    break\u001b[39;00m\n\u001b[0;32m---> 56\u001b[0m \u001b[43manalyzeDataset\u001b[49m\u001b[43m(\u001b[49m\u001b[38;5;124;43m\"\u001b[39;49m\u001b[38;5;124;43m000409\u001b[39;49m\u001b[38;5;124;43m\"\u001b[39;49m\u001b[43m)\u001b[49m\n",
      "Cell \u001b[0;32mIn[219], line 37\u001b[0m, in \u001b[0;36manalyzeDataset\u001b[0;34m(dandiID)\u001b[0m\n\u001b[1;32m     35\u001b[0m fname \u001b[38;5;241m=\u001b[39m asset_md[\u001b[38;5;124m'\u001b[39m\u001b[38;5;124mpath\u001b[39m\u001b[38;5;124m'\u001b[39m]\n\u001b[1;32m     36\u001b[0m size_mb \u001b[38;5;241m=\u001b[39m asset\u001b[38;5;241m.\u001b[39msize \u001b[38;5;241m/\u001b[39m (\u001b[38;5;241m1024.\u001b[39m\u001b[38;5;241m*\u001b[39m\u001b[38;5;241m*\u001b[39m\u001b[38;5;241m2\u001b[39m)\n\u001b[0;32m---> 37\u001b[0m var_meas \u001b[38;5;241m=\u001b[39m [x[\u001b[38;5;124m'\u001b[39m\u001b[38;5;124mvalue\u001b[39m\u001b[38;5;124m'\u001b[39m] \u001b[38;5;28;01mfor\u001b[39;00m x \u001b[38;5;129;01min\u001b[39;00m \u001b[43masset\u001b[49m\u001b[38;5;241;43m.\u001b[39;49m\u001b[43mget_raw_metadata\u001b[49m\u001b[43m(\u001b[49m\u001b[43m)\u001b[49m\u001b[43m[\u001b[49m\u001b[38;5;124;43m'\u001b[39;49m\u001b[38;5;124;43mvariableMeasured\u001b[39;49m\u001b[38;5;124;43m'\u001b[39;49m\u001b[43m]\u001b[49m]\n\u001b[1;32m     39\u001b[0m \u001b[38;5;66;03m# has Units or ElectricalSeries measurements\u001b[39;00m\n\u001b[1;32m     40\u001b[0m useful \u001b[38;5;241m=\u001b[39m \u001b[38;5;124m'\u001b[39m\u001b[38;5;124mUnits\u001b[39m\u001b[38;5;124m'\u001b[39m \u001b[38;5;129;01min\u001b[39;00m var_meas\n",
      "\u001b[0;31mKeyError\u001b[0m: 'variableMeasured'"
     ]
    }
   ],
   "source": [
    "def analyzeDataset(dandiID: str):\n",
    "    \n",
    "    LINE_UP = '\\033[1A'\n",
    "    LINE_CLEAR = '\\x1b[2K'\n",
    "    \n",
    "    url = f\"https://dandiarchive.org/dandiset/{dandiID}\"\n",
    "    print(url)\n",
    "    \n",
    "    devices = {}\n",
    "    species = set()\n",
    "    num_subjects = 0\n",
    "    num_trials = []\n",
    "    trial_times_mean = []\n",
    "\n",
    "    parsed_url = dandiarchive.parse_dandi_url(url)\n",
    "    with parsed_url.navigate() as (client, dandiset, assets):\n",
    "    \n",
    "        # Load the most recent version\n",
    "        version = dandiset.most_recent_published_version\n",
    "        if version is None: # => Draft dataset\n",
    "            pass \n",
    "        dandiset = dandiset.for_version(version)\n",
    "        \n",
    "        print(dandiset.get_raw_metadata()['url'])\n",
    "        #print(dandiset.get_raw_metadata()['assetsSummary']['numberOfSubjects'])\n",
    "        print(dandiset.get_raw_metadata()['name'])\n",
    "        \n",
    "        # Number of assets seem to match number of files\n",
    "        print(f\"{len(list(dandiset.get_assets()))} assets\")\n",
    "\n",
    "        useful = True\n",
    "        for i, asset in enumerate(assets):\n",
    "            asset_md = asset.get_raw_metadata()\n",
    "\n",
    "            fname = asset_md['path']\n",
    "            size_mb = asset.size / (1024.**2)\n",
    "            var_meas = [x['value'] for x in asset.get_raw_metadata()['variableMeasured']]\n",
    "\n",
    "            # has Units or ElectricalSeries measurements\n",
    "            useful = 'Units' in var_meas\n",
    "            print(f\"{i}: {fname[:40]} \\t {size_mb:.3f}MB \\t {useful}\")\n",
    "            \n",
    "            if not useful:\n",
    "                continue\n",
    "                \n",
    "            with remoteAssetIO(asset, \"nwb-cache\") as io:\n",
    "                nwbfile = io.read()                \n",
    "                nu = len(nwbfile.units)\n",
    "\n",
    "                print(i, len(nwbfile.units.spike_times))\n",
    "                \n",
    "            \n",
    "            #if useful:\n",
    "            #    break\n",
    "\n",
    "analyzeDataset(\"000409\")"
   ]
  },
  {
   "cell_type": "code",
   "execution_count": 84,
   "id": "2ef2b4de-c42e-4561-8218-86fe27f62603",
   "metadata": {},
   "outputs": [
    {
     "data": {
      "text/plain": [
       "{'id': '000363',\n",
       " 'version': Version(identifier='0.230124.1456', name='Mesoscale Activity Map Dataset', asset_count=174, size=65059242446, created=datetime.datetime(2023, 1, 24, 14, 56, 23, 709589, tzinfo=datetime.timezone.utc), modified=datetime.datetime(2023, 1, 24, 14, 56, 29, 612003, tzinfo=datetime.timezone.utc), status=<VersionStatus.VALID: 'Valid'>),\n",
       " 'devices': ['OBIS470',\n",
       "  '17131309211 (neuropixels 1.0 - 3B)',\n",
       "  '18005107812 (neuropixels 1.0 - 3B)',\n",
       "  '17216703352 (neuropixels 1.0 - 3B)',\n",
       "  '18005107871 (neuropixels 1.0 - 3B)'],\n",
       " 'species': ['Mus musculus']}"
      ]
     },
     "execution_count": 84,
     "metadata": {},
     "output_type": "execute_result"
    }
   ],
   "source": [
    "data"
   ]
  }
 ],
 "metadata": {
  "kernelspec": {
   "display_name": "Python 3 (ipykernel)",
   "language": "python",
   "name": "python3"
  },
  "language_info": {
   "codemirror_mode": {
    "name": "ipython",
    "version": 3
   },
   "file_extension": ".py",
   "mimetype": "text/x-python",
   "name": "python",
   "nbconvert_exporter": "python",
   "pygments_lexer": "ipython3",
   "version": "3.8.10"
  }
 },
 "nbformat": 4,
 "nbformat_minor": 5
}
